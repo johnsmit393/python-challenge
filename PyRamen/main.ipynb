{
 "cells": [
  {
   "cell_type": "code",
   "execution_count": 67,
   "id": "e1c30546",
   "metadata": {},
   "outputs": [
    {
     "data": {
      "text/plain": [
       "'PyRamen Homework Starter.'"
      ]
     },
     "execution_count": 67,
     "metadata": {},
     "output_type": "execute_result"
    }
   ],
   "source": [
    "# -*- coding: UTF-8 -*-\n",
    "\"\"\"PyRamen Homework Starter.\"\"\""
   ]
  },
  {
   "cell_type": "code",
   "execution_count": 68,
   "id": "3f8c3916",
   "metadata": {},
   "outputs": [],
   "source": [
    "# @TODO: Import libraries\n",
    "import csv\n",
    "from pathlib import Path"
   ]
  },
  {
   "cell_type": "code",
   "execution_count": 69,
   "id": "61fcd8a3",
   "metadata": {},
   "outputs": [],
   "source": [
    "# @TODO: Set file paths for menu_data.csv and sales_data.csv\n",
    "menu_filepath = Path('menu_data.csv')\n",
    "sales_filepath = Path('sales_data.csv')"
   ]
  },
  {
   "cell_type": "code",
   "execution_count": 70,
   "id": "1e471c2b",
   "metadata": {},
   "outputs": [],
   "source": [
    "# @TODO: Initialize list objects to hold our menu and sales data\n",
    "menu = []\n",
    "sales = []"
   ]
  },
  {
   "cell_type": "code",
   "execution_count": 71,
   "id": "a89212fe",
   "metadata": {},
   "outputs": [],
   "source": [
    "def read_csv(filepath):\n",
    "    rows = []\n",
    "    with open(filepath, 'r', encoding='utf-8') as f:\n",
    "        data = csv.reader(f)\n",
    "        next(data)\n",
    "        for row in data:\n",
    "            rows.append(row)\n",
    "    return rows"
   ]
  },
  {
   "cell_type": "code",
   "execution_count": 72,
   "id": "5860e149",
   "metadata": {},
   "outputs": [],
   "source": [
    "# @TODO: Read in the menu data into the menu list\n",
    "menu = read_csv(menu_filepath)"
   ]
  },
  {
   "cell_type": "code",
   "execution_count": 73,
   "id": "f97738e2",
   "metadata": {},
   "outputs": [],
   "source": [
    "# @TODO: Read in the sales data into the sales list\n",
    "sales = read_csv(sales_filepath)"
   ]
  },
  {
   "cell_type": "code",
   "execution_count": 75,
   "id": "9e46c422",
   "metadata": {},
   "outputs": [],
   "source": [
    "# @TODO: Initialize dict object to hold our key-value pairs of items and metrics\n",
    "report = {}\n",
    "# Initialize a row counter variable\n",
    "row_count = 0\n",
    "# @TODO: Loop over every row in the sales list object\n",
    "for sale in sales:\n",
    "    # @TODO: Initialize sales data variables\n",
    "    quantity, sales_item = int(sale[-2]), sale[-1]\n",
    "    \n",
    "    # @TODO:\n",
    "    # If the item value not in the report, add it as a new entry with initialized metrics\n",
    "    # Naming convention allows the keys to be ordered in logical fashion, count, revenue, cost, profit\n",
    "    report.setdefault(sales_item, {'01-count': 0, '02-revenue': 0, '03-cogs': 0, '04-profit': 0})\n",
    "    \n",
    "    # @TODO: For every row in our sales data, loop over the menu records to determine a match\n",
    "    for row in menu:\n",
    "        # @TODO: Initialize menu data variables\n",
    "        menu_item, price, cost = row[0], float(row[-2]), float(row[-1])\n",
    "        if sales_item == menu_item:\n",
    "            # @TODO: Calculate profit of each item in the menu data\n",
    "            # @TODO: If the item value in our sales data is equal to the any of the items in the menu, then begin tracking metrics for that item\n",
    "            revenue = quantity * price\n",
    "            cogs = quantity * cost\n",
    "            profit = revenue - cogs\n",
    "            # @TODO: Cumulatively add up the metrics for each item key\n",
    "            report[sales_item][\"01-count\"] += quantity\n",
    "            report[sales_item][\"02-revenue\"] += revenue\n",
    "            report[sales_item][\"03-cogs\"] += cogs\n",
    "            report[sales_item][\"04-profit\"] += profit\n",
    "#     else:\n",
    "#         print(f\"{sales_item} does not equal {menu_item}! NO MATCH!\")\n",
    "    # @TODO: Increment the row counter by 1\n",
    "    row_count += 1"
   ]
  },
  {
   "cell_type": "code",
   "execution_count": 76,
   "id": "6a452743",
   "metadata": {},
   "outputs": [
    {
     "name": "stdout",
     "output_type": "stream",
     "text": [
      "74124\n"
     ]
    }
   ],
   "source": [
    "# @TODO: Print total number of records in sales data\n",
    "print(row_count)"
   ]
  },
  {
   "cell_type": "code",
   "execution_count": 77,
   "id": "319e4fe2",
   "metadata": {},
   "outputs": [],
   "source": [
    "# @TODO: Write out report to a text file (won't appear on the command line output)\n",
    "with open('report.txt', 'w', encoding='utf-8') as f:\n",
    "    for k, v in report.items():\n",
    "        f.write(f'{k} {v}\\n')"
   ]
  },
  {
   "cell_type": "code",
   "execution_count": null,
   "id": "4a3da760",
   "metadata": {},
   "outputs": [],
   "source": []
  }
 ],
 "metadata": {
  "kernelspec": {
   "display_name": "Python 3 (ipykernel)",
   "language": "python",
   "name": "python3"
  },
  "language_info": {
   "codemirror_mode": {
    "name": "ipython",
    "version": 3
   },
   "file_extension": ".py",
   "mimetype": "text/x-python",
   "name": "python",
   "nbconvert_exporter": "python",
   "pygments_lexer": "ipython3",
   "version": "3.10.6"
  }
 },
 "nbformat": 4,
 "nbformat_minor": 5
}
