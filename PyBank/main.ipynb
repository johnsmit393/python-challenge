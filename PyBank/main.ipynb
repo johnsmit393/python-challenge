{
 "cells": [
  {
   "cell_type": "code",
   "execution_count": 27,
   "id": "d46bab6d",
   "metadata": {},
   "outputs": [],
   "source": [
    "import csv"
   ]
  },
  {
   "cell_type": "code",
   "execution_count": 28,
   "id": "f913af39",
   "metadata": {},
   "outputs": [],
   "source": [
    "with open('budget_data.csv', 'r', encoding='utf-8') as f:\n",
    "    rows = csv.reader(f)\n",
    "    next(rows)\n",
    "\n",
    "    result = {\n",
    "        'months': set(),\n",
    "        'total': 0,\n",
    "        'inc': None,\n",
    "        'dec': None,\n",
    "        'avg': []\n",
    "    }\n",
    "\n",
    "    prev = None\n",
    "    max_inc = [0, 'month']\n",
    "    max_dec = [0, 'month']\n",
    "    for row in rows:\n",
    "        result['months'].add(row[0])\n",
    "        result['total'] += int(row[1])\n",
    "        if prev:\n",
    "            diff = int(row[1]) - prev\n",
    "            result['avg'].append(diff)\n",
    "            if diff > max_inc[0]:\n",
    "                max_inc = [diff, row[0]]\n",
    "            elif diff < max_dec[0]:\n",
    "                max_dec = [diff, row[0]]\n",
    "            prev = int(row[1])\n",
    "        else:\n",
    "            prev = int(row[1])\n",
    "\n",
    "    result['avg'] = round(sum(result['avg']) / len(result['avg']), 2)\n",
    "    result['months'] = len(result['months'])\n",
    "    result['inc'] = max_inc\n",
    "    result['dec'] = max_dec"
   ]
  },
  {
   "cell_type": "code",
   "execution_count": 29,
   "id": "c9883bc4",
   "metadata": {},
   "outputs": [],
   "source": [
    "final = f\"\"\"Financial Analysis\n",
    "----------------------------\n",
    "Total Months: {result['months']}\n",
    "Total: ${result['total']}\n",
    "Average Change: ${result['avg']}\n",
    "Greatest Increase in Profits: {result['inc'][1]} (${result['inc'][0]})\n",
    "Greatest Decrease in Profits: {result['dec'][1]} (${result['dec'][0]})\n",
    "\"\"\""
   ]
  },
  {
   "cell_type": "code",
   "execution_count": 30,
   "id": "edb16ff7",
   "metadata": {},
   "outputs": [
    {
     "name": "stdout",
     "output_type": "stream",
     "text": [
      "Financial Analysis\n",
      "----------------------------\n",
      "Total Months: 86\n",
      "Total: $38382578\n",
      "Average Change: $-2315.12\n",
      "Greatest Increase in Profits: Feb-2012 ($1926159)\n",
      "Greatest Decrease in Profits: Sep-2013 ($-2196167)\n",
      "\n"
     ]
    }
   ],
   "source": [
    "print(final)"
   ]
  },
  {
   "cell_type": "code",
   "execution_count": 31,
   "id": "1b96e6e8",
   "metadata": {},
   "outputs": [],
   "source": [
    "with open('results.txt', 'w', encoding='utf-8') as f:\n",
    "    f.write(final)"
   ]
  },
  {
   "cell_type": "code",
   "execution_count": null,
   "id": "bd4c9733",
   "metadata": {},
   "outputs": [],
   "source": []
  }
 ],
 "metadata": {
  "kernelspec": {
   "display_name": "Python 3 (ipykernel)",
   "language": "python",
   "name": "python3"
  },
  "language_info": {
   "codemirror_mode": {
    "name": "ipython",
    "version": 3
   },
   "file_extension": ".py",
   "mimetype": "text/x-python",
   "name": "python",
   "nbconvert_exporter": "python",
   "pygments_lexer": "ipython3",
   "version": "3.10.6"
  }
 },
 "nbformat": 4,
 "nbformat_minor": 5
}
